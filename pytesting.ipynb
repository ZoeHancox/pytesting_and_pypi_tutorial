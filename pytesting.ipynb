{
 "cells": [
  {
   "cell_type": "markdown",
   "metadata": {},
   "source": [
    "### How to use this notebook?\n",
    "\n",
    "Follow the instructions as you work down through this notebook. "
   ]
  },
  {
   "cell_type": "markdown",
   "metadata": {},
   "source": [
    "#### Benefits of testing code\n",
    "\n",
    "Validation: Testing frameworks enable you to validate the correctness of your algorithms. By writing tests, you can verify that your code behaves as expected and produces the desired results.\n",
    "\n",
    "Regression Testing: Code often evolves over time, and changes made to the codebase can introduce new bugs or break existing functionality. Testing frameworks help in implementing regression testing, allowing you to detect and fix issues when modifying your code.\n",
    "\n",
    "Documentation: Writing tests alongside your code provides executable documentation that demonstrates how your code should be used and the expected outputs. This helps other developers understand and utilize your code more effectively.\n",
    "\n",
    "Continuous Integration: Testing frameworks are commonly used in continuous integration (CI) pipelines to automatically run tests on code changes. CI ensures that your code remains functional and reliable as you develop new features or make modifications.\n",
    "\n",
    "Code Maintainability: Tests act as a safety net, making it easier to refactor or modify your code with confidence. They ensure that the changes you make do not introduce unexpected errors or regressions.\n",
    "\n",
    "Collaboration: Testing frameworks make it easier for multiple developers to collaborate on projects. By running tests, everyone can quickly verify that their changes have not broken existing functionality."
   ]
  },
  {
   "cell_type": "markdown",
   "metadata": {},
   "source": [
    "### Test calculate_mean function\n",
    "\n",
    "We've created a function called `calculate_mean` in the `calc_mean.py` file. This function calculates the mean of a list of numbers.\n"
   ]
  },
  {
   "cell_type": "code",
   "execution_count": null,
   "metadata": {},
   "outputs": [],
   "source": [
    "from pytest_tutorial import calc_mean\n",
    "\n",
    "file_path = 'pytest_tutorial/calc_mean.py'\n",
    "\n",
    "with open(file_path, 'r') as file:\n",
    "    calc_mean_file = file.read()\n",
    "\n",
    "print(calc_mean_file)"
   ]
  },
  {
   "cell_type": "code",
   "execution_count": null,
   "metadata": {},
   "outputs": [],
   "source": [
    "calc_mean.calculate_mean([7, 8, 4])"
   ]
  },
  {
   "cell_type": "markdown",
   "metadata": {},
   "source": [
    "\n",
    "We want to check it works properly so we've created some simple tests using the Pytest package and the `assert` statement.\n",
    "\n",
    "The `assert` statement is used to check whether a given expression or condition evaluates to True or False. If the condition is False, the assert statement raises an `AssertionError` exception, indicating that the test has failed. We use `assert` with the answer calculated by the function and then compare it to our hand calculated answer to check the results match."
   ]
  },
  {
   "cell_type": "code",
   "execution_count": null,
   "metadata": {},
   "outputs": [],
   "source": [
    "# See the tests below\n",
    "\n",
    "file_path = 'pytest_tutorial/tut_tests/test_calc_mean.py'\n",
    "\n",
    "with open(file_path, 'r') as file:\n",
    "    test_calc_mean_file = file.read()\n",
    "\n",
    "print(test_calc_mean_file)"
   ]
  },
  {
   "cell_type": "markdown",
   "metadata": {},
   "source": [
    "PyTest runs on any files that start with `test` and end with `.py`.\n",
    "\n",
    "To test your tests run the cell below:\n",
    "\n",
    "The -v flag can be used to show the tests as they are being processed\n",
    "\n",
    "`!python -m pytest -v pytest_tutorial/tut_tests/test_calc_mean.py`\n",
    "\n",
    "_note you might have to do `!pip install pytest` before if you run this outside of your notebook._"
   ]
  },
  {
   "cell_type": "code",
   "execution_count": null,
   "metadata": {},
   "outputs": [],
   "source": [
    "!python -m pytest pytest_tutorial/tut_tests/test_calc_mean.py"
   ]
  },
  {
   "cell_type": "markdown",
   "metadata": {},
   "source": [
    "BRILLIANT! All the tests were passed! Our code must be functioning correctly... Right?\n",
    "\n",
    "Yes, the code passes these tests but what if the person executing the code inputs the wrong datatype. For example, say they provide a set of numbers instead of a list, what happens?"
   ]
  },
  {
   "cell_type": "markdown",
   "metadata": {},
   "source": [
    "#### Exercise 1: Add a test to check the argument type\n",
    "\n",
    "Write a function to test that inputing a set of numbers {1,2,3} gives you the desired answer of 2.\n",
    "\n",
    "Uncomment the first line of the code below `%%writefile test_calc_mean_1.py` when your testing function is ready, to write a new pytesting file. And add a function to check the argument type."
   ]
  },
  {
   "cell_type": "code",
   "execution_count": null,
   "metadata": {},
   "outputs": [],
   "source": [
    "#%%writefile pytest_tutorial/tut_tests/test_calc_mean_1.py\n",
    "\n",
    "from pytest_tutorial import calc_mean\n",
    "\n",
    "def test_calculate_mean():\n",
    "    numbers = [1, 2, 3, 4, 5]\n",
    "    assert calc_mean.calculate_mean(numbers) == 3.0\n",
    "\n",
    "def test_calculate_mean_empty_list():\n",
    "    numbers = []\n",
    "    assert calc_mean.calculate_mean(numbers) == None\n",
    "\n",
    "def test_calculate_mean_single_number():\n",
    "    numbers = [10]\n",
    "    assert calc_mean.calculate_mean(numbers) == 10.0\n",
    "\n",
    "def test_calculate_mean_negative_numbers():\n",
    "    numbers = [-1, -2, -3, -4, -5]\n",
    "    assert calc_mean.calculate_mean(numbers) == -3.0\n",
    "\n",
    "# def test_calculate_set_of_numbers():\n",
    "#     ## YOUR CODE HERE"
   ]
  },
  {
   "cell_type": "markdown",
   "metadata": {},
   "source": [
    "Run the cell below to execute your new test!"
   ]
  },
  {
   "cell_type": "code",
   "execution_count": null,
   "metadata": {},
   "outputs": [],
   "source": [
    "!python -m pytest pytest_tutorial/tut_tests/test_calc_mean_1.py"
   ]
  },
  {
   "cell_type": "markdown",
   "metadata": {},
   "source": [
    "Good job! It's useful to know that your code will work as expected with sets too!\n",
    "\n",
    "If we want to force users of `calculate_mean` to use lists we can add types to our functions like so:\n",
    "\n",
    "```\n",
    "def calculate_mean(numbers:list):\n",
    "\n",
    "...\n",
    "```\n",
    "\n",
    "Restricting the attribute types helps reduce errors and confusing when using functions."
   ]
  },
  {
   "cell_type": "markdown",
   "metadata": {},
   "source": [
    "\n",
    "Another thing we can consider is 'error handling' this is a good way to manage and respond to errors or exceptions that occur during program execution. It is useful for preventing crashes, improving user experience, and enabling effective debugging and troubleshooting.\n",
    "\n",
    "There are many different types of exceptions that can occur when using Python, these are built into Python and catch some common errors. Normally these are a blessing and prevent hours of bug searches 🐛 but sometimes these exceptions can throw us off even more.\n",
    "\n",
    "We can implement our own Try-Except blocks to catch and handle human error for us.\n",
    "\n",
    "Say for example we try to input a dictionary as an argument in our function, we could implement the Try-Except block as below:"
   ]
  },
  {
   "cell_type": "code",
   "execution_count": null,
   "metadata": {},
   "outputs": [],
   "source": [
    "nums = {'a':0, 'b':1, 'c':2}\n",
    "\n",
    "try:\n",
    "    assert type(nums) == list\n",
    "    print(\"Assertions complete, nums is a list.\")\n",
    "except AssertionError:\n",
    "    print(\"Error: data type is incorrect, nums should be a list.\")"
   ]
  },
  {
   "cell_type": "markdown",
   "metadata": {},
   "source": [
    "#### Exercise 2: Improve the calculator function and test it.\n",
    "We've created a function that acts as a simple calculator. \n",
    "However, it has some flaws...\n",
    "\n",
    "Your tasks, if you chose to accept them:\n",
    "\n",
    "- [ ] Improve the `calculator` function by raising a value error if you try to divide by 0. (Like so: `raise ValueError(\"Your string here\")`).\n",
    "- [ ] Improve the `calculator` function by changing the `operation` str to lowercase.\n",
    "- [ ] Write a test to check `calculator` converts your string argument to lowercase.\n",
    "- [ ] Add type hints (types for your function arguments) to your `calculator` function.\n",
    "\n",
    "_Make sure to uncomment your `%%writefile` to save them._"
   ]
  },
  {
   "cell_type": "code",
   "execution_count": null,
   "metadata": {},
   "outputs": [],
   "source": [
    "%%writefile pytest_tutorial/simple_calc.py\n",
    "\n",
    "def calculator(a, b, operation):\n",
    "    \"\"\"Simple calculator to add, multiple, subtract or divide two values.\n",
    "\n",
    "    Args:\n",
    "        a (float): a number.\n",
    "        b (float): a number.\n",
    "        operation (str): can be 'add', 'multiply', 'substract' or 'divide'.\n",
    "\n",
    "    Raises:\n",
    "        ValueError: Cannot divide by zero.\n",
    "        ValueError: Unsupported operation if you use a string not included.\n",
    "\n",
    "    Returns:\n",
    "        float: value with operation performed.\n",
    "    \"\"\"\n",
    "    if operation == 'add':\n",
    "        return a + b\n",
    "    elif operation == 'subtract':\n",
    "        return a - b\n",
    "    elif operation == 'multiply':\n",
    "        return a * b\n",
    "    elif operation == 'divide':\n",
    "        return a / b\n",
    "    else:\n",
    "        raise ValueError(\"Unsupported operation\")"
   ]
  },
  {
   "cell_type": "code",
   "execution_count": null,
   "metadata": {},
   "outputs": [],
   "source": [
    "%%writefile pytest_tutorial/tut_tests/test_calculator.py\n",
    "from pytest_tutorial import simple_calc\n",
    "import pytest\n",
    "\n",
    "def test_add():\n",
    "    assert simple_calc.calculator(2, 3, 'add') == 5\n",
    "\n",
    "def test_subtract():\n",
    "    assert simple_calc.calculator(5, 3, 'subtract') == 2\n",
    "\n",
    "def test_multiply():\n",
    "    assert simple_calc.calculator(2, 3, 'multiply') == 6\n",
    "\n",
    "def test_divide():\n",
    "    assert simple_calc.calculator(6, 3, 'divide') == 2\n",
    "\n",
    "def test_divide_by_zero():\n",
    "    with pytest.raises(ValueError, match=\"Cannot divide by zero\"):\n",
    "        simple_calc.calculator(1, 0, 'divide')\n",
    "\n",
    "def test_unsupported_operation():\n",
    "    with pytest.raises(ValueError, match=\"Unsupported operation\"):\n",
    "        simple_calc.calculator(1, 1, 'modulus')"
   ]
  },
  {
   "cell_type": "markdown",
   "metadata": {},
   "source": [
    "Test your code!"
   ]
  },
  {
   "cell_type": "code",
   "execution_count": null,
   "metadata": {},
   "outputs": [],
   "source": [
    "!python -m pytest pytest_tutorial/tut_tests/test_calculator.py"
   ]
  },
  {
   "cell_type": "markdown",
   "metadata": {},
   "source": [
    "#### Exercise 3: Write tests for your `passgen` package\n",
    "\n",
    "First, check out your password generator code below. Feel free to add stuff and uncomment the `%%writefile` if you'd like to add functionality.\n",
    "\n",
    "Here are the requirements of your password generating package:\n",
    "\n",
    "- Password must be more than 8 letters long\n",
    "- One punctuation character must be included\n",
    "- One capital letter must be included\n",
    "- One number must be included\n",
    "- Produce a password of a given length\n",
    "\n",
    "\n",
    "Some ideas for how you could improve the `generate_password` function:\n",
    "\n",
    "- [ ] Add a docstring to explain the code.\n",
    "\n",
    "- [ ] Make the required_len a parameter instead of hardcoding it into the function. \n",
    "\n",
    "- [ ] Make a lowercase letter required also.\n",
    "\n",
    "- [ ] Break the code up into smaller helper functions to make it easier to read.\n"
   ]
  },
  {
   "cell_type": "code",
   "execution_count": null,
   "metadata": {},
   "outputs": [],
   "source": [
    "#%%writefile ../passgen/generate_pass.py\n",
    "\n",
    "import random\n",
    "import string\n",
    "\n",
    "def generate_password(length:int):\n",
    "    required_len = 8\n",
    "    if length < required_len:\n",
    "        raise ValueError(\"Password length must be at least 8 characters long\")\n",
    "\n",
    "    # Generate one character of each required type\n",
    "    capital_letter = random.choice(string.ascii_uppercase)\n",
    "    special_char = random.choice(string.punctuation)\n",
    "    number = random.choice(string.digits)\n",
    "    \n",
    "    # Generate the remaining characters\n",
    "    remaining_length = length - required_len\n",
    "    all_characters = string.ascii_letters + string.digits + string.punctuation\n",
    "    remaining_chars = random.choices(all_characters, k=remaining_length)\n",
    "    \n",
    "    # Combine all characters and shuffle them\n",
    "    password_list = [capital_letter, special_char, number] + remaining_chars\n",
    "    random.shuffle(password_list)\n",
    "    \n",
    "    # Convert the list to a string and return\n",
    "    password = ''.join(password_list)\n",
    "    return password\n"
   ]
  },
  {
   "cell_type": "markdown",
   "metadata": {},
   "source": [
    "Below is the start of some testing code, add some more tests to reduce the chance of your code breaking. \n",
    "\n",
    "Add a test to check your code give you a password of the requried length. \n",
    "\n",
    "You might find your code fails this length checking test - amend the generate_password function above so that the password is the length expected. "
   ]
  },
  {
   "cell_type": "code",
   "execution_count": null,
   "metadata": {},
   "outputs": [],
   "source": [
    "%%writefile test_passgen/test_generate_pass.py \n",
    "\n",
    "from passgen import generate_pass\n",
    "import pytest\n",
    "\n",
    "import os \n",
    "print(os.getcwd())\n",
    "\n",
    "def test_for_uppercase():\n",
    "    password = generate_pass.generate_password(8)\n",
    "    assert any(c.isupper() for c in password)\n",
    "\n",
    "# ADD MORE TESTS HERE! :)\n"
   ]
  },
  {
   "cell_type": "code",
   "execution_count": null,
   "metadata": {},
   "outputs": [],
   "source": [
    "!python -m pytest test_passgen/test_generate_pass.py"
   ]
  },
  {
   "cell_type": "markdown",
   "metadata": {},
   "source": [
    "That's the end of the Pytesting component of this workshop! Well done for completing it!\n",
    "\n",
    "If you'd like to learn more about testing check out this repository for a notebook with examples for machine learning algorithms and using the Hypothesis package:\n",
    "\n",
    "[https://github.com/ZoeHancox/ML_pytesting_tutorial](https://github.com/ZoeHancox/ML_pytesting_tutorial)"
   ]
  }
 ],
 "metadata": {
  "kernelspec": {
   "display_name": "tut_env",
   "language": "python",
   "name": "python3"
  },
  "language_info": {
   "codemirror_mode": {
    "name": "ipython",
    "version": 3
   },
   "file_extension": ".py",
   "mimetype": "text/x-python",
   "name": "python",
   "nbconvert_exporter": "python",
   "pygments_lexer": "ipython3",
   "version": "3.8.19"
  }
 },
 "nbformat": 4,
 "nbformat_minor": 2
}
